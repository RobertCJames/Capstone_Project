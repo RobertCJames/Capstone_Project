{
  "cells": [
    {
      "cell_type": "code",
      "execution_count": null,
      "metadata": {
        "colab": {
          "base_uri": "https://localhost:8080/",
          "height": 73
        },
        "id": "fNiuOUkh4Yz_",
        "outputId": "46e4cdd9-7132-488a-c5f3-21331cfe3ce4"
      },
      "outputs": [
        {
          "output_type": "display_data",
          "data": {
            "text/plain": [
              "<IPython.core.display.HTML object>"
            ],
            "text/html": [
              "\n",
              "     <input type=\"file\" id=\"files-b9fdb5e8-31fb-4dd2-a5f2-557012d8ffea\" name=\"files[]\" multiple disabled\n",
              "        style=\"border:none\" />\n",
              "     <output id=\"result-b9fdb5e8-31fb-4dd2-a5f2-557012d8ffea\">\n",
              "      Upload widget is only available when the cell has been executed in the\n",
              "      current browser session. Please rerun this cell to enable.\n",
              "      </output>\n",
              "      <script>// Copyright 2017 Google LLC\n",
              "//\n",
              "// Licensed under the Apache License, Version 2.0 (the \"License\");\n",
              "// you may not use this file except in compliance with the License.\n",
              "// You may obtain a copy of the License at\n",
              "//\n",
              "//      http://www.apache.org/licenses/LICENSE-2.0\n",
              "//\n",
              "// Unless required by applicable law or agreed to in writing, software\n",
              "// distributed under the License is distributed on an \"AS IS\" BASIS,\n",
              "// WITHOUT WARRANTIES OR CONDITIONS OF ANY KIND, either express or implied.\n",
              "// See the License for the specific language governing permissions and\n",
              "// limitations under the License.\n",
              "\n",
              "/**\n",
              " * @fileoverview Helpers for google.colab Python module.\n",
              " */\n",
              "(function(scope) {\n",
              "function span(text, styleAttributes = {}) {\n",
              "  const element = document.createElement('span');\n",
              "  element.textContent = text;\n",
              "  for (const key of Object.keys(styleAttributes)) {\n",
              "    element.style[key] = styleAttributes[key];\n",
              "  }\n",
              "  return element;\n",
              "}\n",
              "\n",
              "// Max number of bytes which will be uploaded at a time.\n",
              "const MAX_PAYLOAD_SIZE = 100 * 1024;\n",
              "\n",
              "function _uploadFiles(inputId, outputId) {\n",
              "  const steps = uploadFilesStep(inputId, outputId);\n",
              "  const outputElement = document.getElementById(outputId);\n",
              "  // Cache steps on the outputElement to make it available for the next call\n",
              "  // to uploadFilesContinue from Python.\n",
              "  outputElement.steps = steps;\n",
              "\n",
              "  return _uploadFilesContinue(outputId);\n",
              "}\n",
              "\n",
              "// This is roughly an async generator (not supported in the browser yet),\n",
              "// where there are multiple asynchronous steps and the Python side is going\n",
              "// to poll for completion of each step.\n",
              "// This uses a Promise to block the python side on completion of each step,\n",
              "// then passes the result of the previous step as the input to the next step.\n",
              "function _uploadFilesContinue(outputId) {\n",
              "  const outputElement = document.getElementById(outputId);\n",
              "  const steps = outputElement.steps;\n",
              "\n",
              "  const next = steps.next(outputElement.lastPromiseValue);\n",
              "  return Promise.resolve(next.value.promise).then((value) => {\n",
              "    // Cache the last promise value to make it available to the next\n",
              "    // step of the generator.\n",
              "    outputElement.lastPromiseValue = value;\n",
              "    return next.value.response;\n",
              "  });\n",
              "}\n",
              "\n",
              "/**\n",
              " * Generator function which is called between each async step of the upload\n",
              " * process.\n",
              " * @param {string} inputId Element ID of the input file picker element.\n",
              " * @param {string} outputId Element ID of the output display.\n",
              " * @return {!Iterable<!Object>} Iterable of next steps.\n",
              " */\n",
              "function* uploadFilesStep(inputId, outputId) {\n",
              "  const inputElement = document.getElementById(inputId);\n",
              "  inputElement.disabled = false;\n",
              "\n",
              "  const outputElement = document.getElementById(outputId);\n",
              "  outputElement.innerHTML = '';\n",
              "\n",
              "  const pickedPromise = new Promise((resolve) => {\n",
              "    inputElement.addEventListener('change', (e) => {\n",
              "      resolve(e.target.files);\n",
              "    });\n",
              "  });\n",
              "\n",
              "  const cancel = document.createElement('button');\n",
              "  inputElement.parentElement.appendChild(cancel);\n",
              "  cancel.textContent = 'Cancel upload';\n",
              "  const cancelPromise = new Promise((resolve) => {\n",
              "    cancel.onclick = () => {\n",
              "      resolve(null);\n",
              "    };\n",
              "  });\n",
              "\n",
              "  // Wait for the user to pick the files.\n",
              "  const files = yield {\n",
              "    promise: Promise.race([pickedPromise, cancelPromise]),\n",
              "    response: {\n",
              "      action: 'starting',\n",
              "    }\n",
              "  };\n",
              "\n",
              "  cancel.remove();\n",
              "\n",
              "  // Disable the input element since further picks are not allowed.\n",
              "  inputElement.disabled = true;\n",
              "\n",
              "  if (!files) {\n",
              "    return {\n",
              "      response: {\n",
              "        action: 'complete',\n",
              "      }\n",
              "    };\n",
              "  }\n",
              "\n",
              "  for (const file of files) {\n",
              "    const li = document.createElement('li');\n",
              "    li.append(span(file.name, {fontWeight: 'bold'}));\n",
              "    li.append(span(\n",
              "        `(${file.type || 'n/a'}) - ${file.size} bytes, ` +\n",
              "        `last modified: ${\n",
              "            file.lastModifiedDate ? file.lastModifiedDate.toLocaleDateString() :\n",
              "                                    'n/a'} - `));\n",
              "    const percent = span('0% done');\n",
              "    li.appendChild(percent);\n",
              "\n",
              "    outputElement.appendChild(li);\n",
              "\n",
              "    const fileDataPromise = new Promise((resolve) => {\n",
              "      const reader = new FileReader();\n",
              "      reader.onload = (e) => {\n",
              "        resolve(e.target.result);\n",
              "      };\n",
              "      reader.readAsArrayBuffer(file);\n",
              "    });\n",
              "    // Wait for the data to be ready.\n",
              "    let fileData = yield {\n",
              "      promise: fileDataPromise,\n",
              "      response: {\n",
              "        action: 'continue',\n",
              "      }\n",
              "    };\n",
              "\n",
              "    // Use a chunked sending to avoid message size limits. See b/62115660.\n",
              "    let position = 0;\n",
              "    do {\n",
              "      const length = Math.min(fileData.byteLength - position, MAX_PAYLOAD_SIZE);\n",
              "      const chunk = new Uint8Array(fileData, position, length);\n",
              "      position += length;\n",
              "\n",
              "      const base64 = btoa(String.fromCharCode.apply(null, chunk));\n",
              "      yield {\n",
              "        response: {\n",
              "          action: 'append',\n",
              "          file: file.name,\n",
              "          data: base64,\n",
              "        },\n",
              "      };\n",
              "\n",
              "      let percentDone = fileData.byteLength === 0 ?\n",
              "          100 :\n",
              "          Math.round((position / fileData.byteLength) * 100);\n",
              "      percent.textContent = `${percentDone}% done`;\n",
              "\n",
              "    } while (position < fileData.byteLength);\n",
              "  }\n",
              "\n",
              "  // All done.\n",
              "  yield {\n",
              "    response: {\n",
              "      action: 'complete',\n",
              "    }\n",
              "  };\n",
              "}\n",
              "\n",
              "scope.google = scope.google || {};\n",
              "scope.google.colab = scope.google.colab || {};\n",
              "scope.google.colab._files = {\n",
              "  _uploadFiles,\n",
              "  _uploadFilesContinue,\n",
              "};\n",
              "})(self);\n",
              "</script> "
            ]
          },
          "metadata": {}
        },
        {
          "output_type": "stream",
          "name": "stdout",
          "text": [
            "Saving output_with_census_codes.csv to output_with_census_codes (1).csv\n"
          ]
        }
      ],
      "source": [
        "from google.colab import files\n",
        "uploaded = files.upload()"
      ]
    },
    {
      "cell_type": "code",
      "execution_count": null,
      "metadata": {
        "id": "Ub5sszoD3BUP"
      },
      "outputs": [],
      "source": [
        "import pandas as pd\n",
        "import requests\n",
        "import time"
      ]
    },
    {
      "cell_type": "code",
      "execution_count": null,
      "metadata": {
        "id": "IhsPD4p-3qDl"
      },
      "outputs": [],
      "source": [
        "CENSUS_API_KEY = \"77717138b7fca62f0286916d6ea887a559a8ba63\""
      ]
    },
    {
      "cell_type": "code",
      "execution_count": null,
      "metadata": {
        "id": "73kb1_bs3rsN"
      },
      "outputs": [],
      "source": [
        "# Load your data with state, county, tract, and block codes\n",
        "df = pd.read_csv(\"output_with_census_codes.csv\")  # Replace with your file path"
      ]
    },
    {
      "cell_type": "code",
      "execution_count": null,
      "metadata": {
        "id": "H6Q3k_cQ7lU5"
      },
      "outputs": [],
      "source": [
        "# Convert codes to strings to avoid decimals\n",
        "df['State_FIPS'] = df['State_FIPS'].astype(str).str.zfill(2)     # Ensure state code is 2 digits\n",
        "df['County_FIPS'] = df['County_FIPS'].astype(str).str.zfill(3)   # Ensure county code is 3 digits\n",
        "df['Tract_Code'] = df['Tract_Code'].astype(str).str.zfill(6)     # Ensure tract code is 6 digits\n",
        "df['Block_Code'] = df['Block_Code'].astype(str).str.zfill(4)     # Ensure block code is 4 digits"
      ]
    },
    {
      "cell_type": "code",
      "execution_count": null,
      "metadata": {
        "id": "graQCfun5IP8"
      },
      "outputs": [],
      "source": [
        "# Add columns for tract and block-level race demographics\n",
        "df['Total_Population_Tract'] = None\n",
        "df['White_Alone_Tract'] = None\n",
        "df['Black_Alone_Tract'] = None\n",
        "df['American_Indian_Alone_Tract'] = None\n",
        "df['Asian_Alone_Tract'] = None\n",
        "df['Pacific_Islander_Alone_Tract'] = None\n",
        "df['Other_Race_Alone_Tract'] = None\n",
        "df['Two_or_More_Races_Tract'] = None\n",
        "\n",
        "df['Total_Population_Block'] = None\n",
        "df['White_Alone_Block'] = None\n",
        "df['Black_Alone_Block'] = None\n",
        "df['American_Indian_Alone_Block'] = None\n",
        "df['Asian_Alone_Block'] = None\n",
        "df['Pacific_Islander_Alone_Block'] = None\n",
        "df['Other_Race_Alone_Block'] = None\n",
        "df['Two_or_More_Races_Block'] = None"
      ]
    },
    {
      "cell_type": "code",
      "execution_count": null,
      "metadata": {
        "id": "GezIBAUh5IHR"
      },
      "outputs": [],
      "source": [
        "# Function to get racial demographics for each geographic level\n",
        "def get_race_data(state, county, tract, block=None):\n",
        "    # Determine if we're getting data for a block or tract level\n",
        "    if block:\n",
        "        # Block-level data request\n",
        "        url = f\"https://api.census.gov/data/2020/dec/pl?get=P1_001N,P1_003N,P1_004N,P1_005N,P1_006N,P1_007N,P1_008N,P1_009N&for=block:{block}&in=state:{state}+county:{county}+tract:{tract}&key={CENSUS_API_KEY}\"\n",
        "    else:\n",
        "        # Tract-level data request\n",
        "        url = f\"https://api.census.gov/data/2020/dec/pl?get=P1_001N,P1_003N,P1_004N,P1_005N,P1_006N,P1_007N,P1_008N,P1_009N&for=tract:{tract}&in=state:{state}+county:{county}&key={CENSUS_API_KEY}\"\n",
        "\n",
        "    response = requests.get(url)\n",
        "    if response.status_code == 200:\n",
        "        try:\n",
        "            data = response.json()\n",
        "            # Extract race demographic data\n",
        "            total_pop = data[1][0]\n",
        "            white_alone = data[1][1]\n",
        "            black_alone = data[1][2]\n",
        "            american_indian_alone = data[1][3]\n",
        "            asian_alone = data[1][4]\n",
        "            pacific_islander_alone = data[1][5]\n",
        "            other_race_alone = data[1][6]\n",
        "            two_or_more_races = data[1][7]\n",
        "            return total_pop, white_alone, black_alone, american_indian_alone, asian_alone, pacific_islander_alone, other_race_alone, two_or_more_races\n",
        "        except (IndexError, ValueError):\n",
        "            return None, None, None, None, None, None, None, None\n",
        "    else:\n",
        "        print(f\"Failed to retrieve data for state:{state}, county:{county}, tract:{tract}, block:{block} - Status Code: {response.status_code}\")\n",
        "        return None, None, None, None, None, None, None, None\n"
      ]
    },
    {
      "cell_type": "code",
      "execution_count": null,
      "metadata": {
        "id": "ccm7ZMQn5NcH"
      },
      "outputs": [],
      "source": [
        "# Apply the function to each row in the DataFrame\n",
        "for index, row in df.iterrows():\n",
        "    if pd.notna(row['State_FIPS']) and pd.notna(row['County_FIPS']) and pd.notna(row['Tract_Code']) and pd.notna(row['Block_Code']):\n",
        "        state = row['State_FIPS']\n",
        "        county = row['County_FIPS']\n",
        "        tract = row['Tract_Code']\n",
        "        block = row['Block_Code']\n",
        "\n",
        "        # Get block-level data\n",
        "        total_pop_blk, white_alone_blk, black_alone_blk, american_indian_alone_blk, asian_alone_blk, pacific_islander_alone_blk, other_race_alone_blk, two_or_more_races_blk = get_race_data(state, county, tract, block)\n",
        "        df.at[index, 'Total_Population_Block'] = total_pop_blk\n",
        "        df.at[index, 'White_Alone_Block'] = white_alone_blk\n",
        "        df.at[index, 'Black_Alone_Block'] = black_alone_blk\n",
        "        df.at[index, 'American_Indian_Alone_Block'] = american_indian_alone_blk\n",
        "        df.at[index, 'Asian_Alone_Block'] = asian_alone_blk\n",
        "        df.at[index, 'Pacific_Islander_Alone_Block'] = pacific_islander_alone_blk\n",
        "        df.at[index, 'Other_Race_Alone_Block'] = other_race_alone_blk\n",
        "        df.at[index, 'Two_or_More_Races_Block'] = two_or_more_races_blk\n",
        "\n",
        "        # Get tract-level data (no block parameter)\n",
        "        total_pop_trc, white_alone_trc, black_alone_trc, american_indian_alone_trc, asian_alone_trc, pacific_islander_alone_trc, other_race_alone_trc, two_or_more_races_trc = get_race_data(state, county, tract)\n",
        "        df.at[index, 'Total_Population_Tract'] = total_pop_trc\n",
        "        df.at[index, 'White_Alone_Tract'] = white_alone_trc\n",
        "        df.at[index, 'Black_Alone_Tract'] = black_alone_trc\n",
        "        df.at[index, 'American_Indian_Alone_Tract'] = american_indian_alone_trc\n",
        "        df.at[index, 'Asian_Alone_Tract'] = asian_alone_trc\n",
        "        df.at[index, 'Pacific_Islander_Alone_Tract'] = pacific_islander_alone_trc\n",
        "        df.at[index, 'Other_Race_Alone_Tract'] = other_race_alone_trc\n",
        "        df.at[index, 'Two_or_More_Races_Tract'] = two_or_more_races_trc"
      ]
    },
    {
      "cell_type": "code",
      "execution_count": null,
      "metadata": {
        "id": "ZVuDgQ7y6nwF"
      },
      "outputs": [],
      "source": [
        "df.to_csv(\"output_with_racial_demographics_block_and_tract.csv\", index=False)\n"
      ]
    },
    {
      "cell_type": "code",
      "execution_count": null,
      "metadata": {
        "id": "6hQ8_-wK6qv8"
      },
      "outputs": [],
      "source": [
        "from google.colab import files\n",
        "files.download(\"output_with_racial_demographics_block_and_tract.csv\")"
      ]
    }
  ],
  "metadata": {
    "colab": {
      "provenance": []
    },
    "kernelspec": {
      "display_name": "Python 3",
      "name": "python3"
    },
    "language_info": {
      "name": "python"
    }
  },
  "nbformat": 4,
  "nbformat_minor": 0
}